{
  "nbformat": 4,
  "nbformat_minor": 0,
  "metadata": {
    "colab": {
      "name": "Data Augmentation .ipynb",
      "provenance": [],
      "collapsed_sections": [],
      "toc_visible": true
    },
    "kernelspec": {
      "name": "python3",
      "display_name": "Python 3"
    }
  },
  "cells": [
    {
      "cell_type": "markdown",
      "metadata": {
        "id": "8lUqHVwbs5f2"
      },
      "source": [
        "# Data Augmentation of Train Dataset\n",
        "\n",
        "Data augmentation encompasses a wide range of techniques used to generate “new” training samples from the original ones by applying random jitters and perturbations (but at the same time ensuring that the class labels of the data are not changed).\n",
        "\n",
        "Given that our network is constantly seeing new, slightly modified versions of the input data, the network is able to learn more robust features.\n",
        "At testing time we do not apply data augmentation and simply evaluate our trained network on the unmodified testing data — in most cases, you’ll see an increase in testing accuracy, perhaps at the expense of a slight dip in training accuracy.\n",
        "\n",
        "\\\n",
        "\n",
        "The Keras ImageDataGenerator class actually works by:\n",
        "\n",
        "1.   Accepting a batch of images used for training.\n",
        "2.   Taking this batch and applying a series of random transformations to each image in the batch (including random rotation, resizing, shearing, etc.).\n",
        "3.   Replacing the original batch with the new, randomly transformed batch.\n",
        "4.   Training the CNN on this randomly transformed batch (i.e., the original data itself is not used for training)."
      ]
    },
    {
      "cell_type": "markdown",
      "metadata": {
        "id": "UUpcKw3mcQ6-"
      },
      "source": [
        "## Below we used ImageDataGenerator to generate more training dataset for better efficiency"
      ]
    },
    {
      "cell_type": "code",
      "metadata": {
        "id": "Q6d5DxNSstOh"
      },
      "source": [
        "from keras.preprocessing.image import ImageDataGenerator, array_to_img, img_to_array, load_img\n",
        "import pandas as pd\n",
        "from PIL import Image\n",
        "\n",
        "datagen = ImageDataGenerator(\n",
        "\n",
        "        rotation_range=40,\n",
        "        width_shift_range=0.2,\n",
        "        height_shift_range=0.2,\n",
        "        shear_range=0.2,\n",
        "        zoom_range=0.2,\n",
        "        horizontal_flip=True,\n",
        "        fill_mode='nearest')\n",
        "\n",
        "import glob\n",
        "\n",
        "list_of_files = glob.glob(\"/content/drive/My Drive/Naxbit/CNN/Train/Stone Pendant/*.jpg\")\n",
        "for file in list_of_files:\n",
        "  img = load_img(file)    #target_size=(64,64))  # this is a PIL image\n",
        "  x = img_to_array(img)\n",
        "  x = x.reshape((1,) + x.shape)  # this is a Numpy array with shape (1, 3, 150, 150)\n",
        "\n",
        "\n",
        "  i = 0\n",
        "\n",
        "  for batch in datagen.flow(x, batch_size=1,\n",
        "                            save_to_dir='/content/drive/My Drive/Naxbit/CN/Datagen/Stone Pendant', save_prefix='10', save_format='jpg'):\n",
        "\n",
        "      i += 1\n",
        "\n",
        "      if i > 20:\n",
        "\n",
        "          break"
      ],
      "execution_count": null,
      "outputs": []
    },
    {
      "cell_type": "markdown",
      "metadata": {
        "id": "_ijXMtQwcsLA"
      },
      "source": [
        "## The output of the above model is stored in the CNN/Datagen directory in Google Drive."
      ]
    },
    {
      "cell_type": "code",
      "metadata": {
        "id": "atoMzkJdc4Qx"
      },
      "source": [
        ""
      ],
      "execution_count": null,
      "outputs": []
    }
  ]
}